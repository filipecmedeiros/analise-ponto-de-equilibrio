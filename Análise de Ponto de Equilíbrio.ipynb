{
 "cells": [
  {
   "cell_type": "markdown",
   "metadata": {},
   "source": [
    "# Análise de ponto de equilíbrio"
   ]
  },
  {
   "cell_type": "code",
   "execution_count": 1,
   "metadata": {},
   "outputs": [],
   "source": [
    "import numpy as np\n",
    "import pandas as pd\n",
    "from matplotlib import pyplot\n",
    "import seaborn as sns"
   ]
  },
  {
   "cell_type": "code",
   "execution_count": 2,
   "metadata": {
    "scrolled": true
   },
   "outputs": [],
   "source": [
    "custos_fixos = pd.read_csv('custos_fixos.csv', sep=';')\n",
    "custos_variaveis = pd.read_csv('custos_variaveis.csv', sep=';')"
   ]
  },
  {
   "cell_type": "code",
   "execution_count": 3,
   "metadata": {},
   "outputs": [],
   "source": [
    "class PontoDeEquilibrio:\n",
    "\n",
    "    def __init__(self, custos_fixos, custos_variaveis, valor_unidade, unidades):\n",
    "        self.custos_fixos = custos_fixos.sort_values(by='valor')\n",
    "        self.custos_variaveis = custos_variaveis.sort_values(by='valor')\n",
    "        self.valor_unidade = valor_unidade\n",
    "        self.unidades = np.arange(unidades)\n",
    "        \n",
    "        self.df = pd.DataFrame({'unidades': self.unidades,\n",
    "                                'despesas por unidade': self.despesas_unidade(),\n",
    "                                'custos fixos': self.custos_fixos.valor.sum(),\n",
    "                                'receita': self.receita(),\n",
    "                                'despesas totais': self.despesas_totais(),\n",
    "                                'margem de contribuição': self.margem_de_contribuicao(),\n",
    "                                'lucro': self.lucro()\n",
    "                                })\n",
    "\n",
    "    def despesas_unidade(self):\n",
    "        return self.custos_variaveis.valor.sum()*self.unidades\n",
    "\n",
    "    def receita(self):\n",
    "        return self.valor_unidade*self.unidades\n",
    "\n",
    "    def despesas_totais(self):\n",
    "        return self.custos_fixos.valor.sum() + (self.custos_variaveis.valor.sum()*self.unidades)\n",
    "\n",
    "    def margem_de_contribuicao(self):\n",
    "        return self.receita() - self.despesas_unidade()\n",
    "\n",
    "    def lucro(self):\n",
    "        return self.receita()-self.despesas_totais()\n",
    "\n",
    "    def equilibrio(self):\n",
    "        return np.ceil(self.custos_fixos.valor.sum()/(self.valor_unidade - self.custos_variaveis.valor.sum()))\n",
    "    \n",
    "    def plot_custos(self, data, title='title', palette='Blues', height=8, width=12):\n",
    "        fig, ax = pyplot.subplots(figsize=(width, height))\n",
    "        sns.barplot(data=data, x='categoria', y='valor',\n",
    "                    palette=palette).set_title(title)\n",
    "\n",
    "    def plot(self, col='unidades', height=8, width=12, title='Ponto de Equilíbrio'):\n",
    "        df_aux = self.df[['unidades', 'custos fixos', 'despesas totais', 'receita']].melt(\n",
    "            col, var_name='categoria', value_name='valor')\n",
    "        fig, ax = pyplot.subplots(figsize=(width, height))\n",
    "        sns.lineplot(x=col, y=\"valor\", hue='categoria',\n",
    "                     data=df_aux, ax=ax).set_title(title)"
   ]
  },
  {
   "cell_type": "code",
   "execution_count": 4,
   "metadata": {},
   "outputs": [],
   "source": [
    "pe = PontoDeEquilibrio(custos_fixos, custos_variaveis, 100, 30001)"
   ]
  },
  {
   "cell_type": "markdown",
   "metadata": {},
   "source": [
    "## Distribuição dos custos fixos"
   ]
  },
  {
   "cell_type": "code",
   "execution_count": 5,
   "metadata": {},
   "outputs": [
    {
     "data": {
      "text/html": [
       "<div>\n",
       "<style scoped>\n",
       "    .dataframe tbody tr th:only-of-type {\n",
       "        vertical-align: middle;\n",
       "    }\n",
       "\n",
       "    .dataframe tbody tr th {\n",
       "        vertical-align: top;\n",
       "    }\n",
       "\n",
       "    .dataframe thead th {\n",
       "        text-align: right;\n",
       "    }\n",
       "</style>\n",
       "<table border=\"1\" class=\"dataframe\">\n",
       "  <thead>\n",
       "    <tr style=\"text-align: right;\">\n",
       "      <th></th>\n",
       "      <th>categoria</th>\n",
       "      <th>valor</th>\n",
       "    </tr>\n",
       "  </thead>\n",
       "  <tbody>\n",
       "    <tr>\n",
       "      <th>4</th>\n",
       "      <td>Água, energia e outros serviços</td>\n",
       "      <td>30500.0</td>\n",
       "    </tr>\n",
       "    <tr>\n",
       "      <th>0</th>\n",
       "      <td>Terreno</td>\n",
       "      <td>42500.0</td>\n",
       "    </tr>\n",
       "    <tr>\n",
       "      <th>5</th>\n",
       "      <td>Seguro</td>\n",
       "      <td>99700.0</td>\n",
       "    </tr>\n",
       "    <tr>\n",
       "      <th>3</th>\n",
       "      <td>Equipamento de escritório</td>\n",
       "      <td>212800.0</td>\n",
       "    </tr>\n",
       "    <tr>\n",
       "      <th>1</th>\n",
       "      <td>Instalações</td>\n",
       "      <td>332500.0</td>\n",
       "    </tr>\n",
       "    <tr>\n",
       "      <th>2</th>\n",
       "      <td>Maquinaria de produção</td>\n",
       "      <td>532000.0</td>\n",
       "    </tr>\n",
       "  </tbody>\n",
       "</table>\n",
       "</div>"
      ],
      "text/plain": [
       "                         categoria     valor\n",
       "4  Água, energia e outros serviços   30500.0\n",
       "0                          Terreno   42500.0\n",
       "5                           Seguro   99700.0\n",
       "3        Equipamento de escritório  212800.0\n",
       "1                      Instalações  332500.0\n",
       "2           Maquinaria de produção  532000.0"
      ]
     },
     "execution_count": 5,
     "metadata": {},
     "output_type": "execute_result"
    }
   ],
   "source": [
    "pe.custos_fixos"
   ]
  },
  {
   "cell_type": "code",
   "execution_count": 6,
   "metadata": {
    "scrolled": false
   },
   "outputs": [
    {
     "data": {
      "image/png": "[encoded data removed]",
      "text/plain": [
       "<Figure size 864x576 with 1 Axes>"
      ]
     },
     "metadata": {
      "needs_background": "light"
     },
     "output_type": "display_data"
    }
   ],
   "source": [
    "pe.plot_custos(pe.custos_fixos, title='Custos Fixos', palette='OrRd')"
   ]
  },
  {
   "cell_type": "markdown",
   "metadata": {},
   "source": [
    "## Distribuição dos custos variáveis"
   ]
  },
  {
   "cell_type": "code",
   "execution_count": 7,
   "metadata": {},
   "outputs": [
    {
     "data": {
      "text/html": [
       "<div>\n",
       "<style scoped>\n",
       "    .dataframe tbody tr th:only-of-type {\n",
       "        vertical-align: middle;\n",
       "    }\n",
       "\n",
       "    .dataframe tbody tr th {\n",
       "        vertical-align: top;\n",
       "    }\n",
       "\n",
       "    .dataframe thead th {\n",
       "        text-align: right;\n",
       "    }\n",
       "</style>\n",
       "<table border=\"1\" class=\"dataframe\">\n",
       "  <thead>\n",
       "    <tr style=\"text-align: right;\">\n",
       "      <th></th>\n",
       "      <th>categoria</th>\n",
       "      <th>valor</th>\n",
       "    </tr>\n",
       "  </thead>\n",
       "  <tbody>\n",
       "    <tr>\n",
       "      <th>1</th>\n",
       "      <td>Propaganda</td>\n",
       "      <td>1.0</td>\n",
       "    </tr>\n",
       "    <tr>\n",
       "      <th>2</th>\n",
       "      <td>Expedição e recebimento</td>\n",
       "      <td>5.0</td>\n",
       "    </tr>\n",
       "    <tr>\n",
       "      <th>0</th>\n",
       "      <td>Mão-de-obra</td>\n",
       "      <td>15.0</td>\n",
       "    </tr>\n",
       "  </tbody>\n",
       "</table>\n",
       "</div>"
      ],
      "text/plain": [
       "                 categoria  valor\n",
       "1               Propaganda    1.0\n",
       "2  Expedição e recebimento    5.0\n",
       "0              Mão-de-obra   15.0"
      ]
     },
     "execution_count": 7,
     "metadata": {},
     "output_type": "execute_result"
    }
   ],
   "source": [
    "pe.custos_variaveis"
   ]
  },
  {
   "cell_type": "code",
   "execution_count": 8,
   "metadata": {
    "scrolled": false
   },
   "outputs": [
    {
     "data": {
      "image/png": "[encoded data removed]",
      "text/plain": [
       "<Figure size 864x576 with 1 Axes>"
      ]
     },
     "metadata": {
      "needs_background": "light"
     },
     "output_type": "display_data"
    }
   ],
   "source": [
    "pe.plot_custos(pe.custos_variaveis, title='Custos Variáveis')"
   ]
  },
  {
   "cell_type": "markdown",
   "metadata": {},
   "source": [
    "## Tabela de valores por unidades vendidas"
   ]
  },
  {
   "cell_type": "code",
   "execution_count": 9,
   "metadata": {
    "scrolled": false
   },
   "outputs": [
    {
     "data": {
      "text/html": [
       "<div>\n",
       "<style scoped>\n",
       "    .dataframe tbody tr th:only-of-type {\n",
       "        vertical-align: middle;\n",
       "    }\n",
       "\n",
       "    .dataframe tbody tr th {\n",
       "        vertical-align: top;\n",
       "    }\n",
       "\n",
       "    .dataframe thead th {\n",
       "        text-align: right;\n",
       "    }\n",
       "</style>\n",
       "<table border=\"1\" class=\"dataframe\">\n",
       "  <thead>\n",
       "    <tr style=\"text-align: right;\">\n",
       "      <th></th>\n",
       "      <th>unidades</th>\n",
       "      <th>despesas por unidade</th>\n",
       "      <th>custos fixos</th>\n",
       "      <th>receita</th>\n",
       "      <th>despesas totais</th>\n",
       "      <th>margem de contribuição</th>\n",
       "      <th>lucro</th>\n",
       "    </tr>\n",
       "  </thead>\n",
       "  <tbody>\n",
       "    <tr>\n",
       "      <th>0</th>\n",
       "      <td>0</td>\n",
       "      <td>0.0</td>\n",
       "      <td>1250000.0</td>\n",
       "      <td>0</td>\n",
       "      <td>1250000.0</td>\n",
       "      <td>0.0</td>\n",
       "      <td>-1250000.0</td>\n",
       "    </tr>\n",
       "    <tr>\n",
       "      <th>1</th>\n",
       "      <td>1</td>\n",
       "      <td>21.0</td>\n",
       "      <td>1250000.0</td>\n",
       "      <td>100</td>\n",
       "      <td>1250021.0</td>\n",
       "      <td>79.0</td>\n",
       "      <td>-1249921.0</td>\n",
       "    </tr>\n",
       "    <tr>\n",
       "      <th>2</th>\n",
       "      <td>2</td>\n",
       "      <td>42.0</td>\n",
       "      <td>1250000.0</td>\n",
       "      <td>200</td>\n",
       "      <td>1250042.0</td>\n",
       "      <td>158.0</td>\n",
       "      <td>-1249842.0</td>\n",
       "    </tr>\n",
       "    <tr>\n",
       "      <th>3</th>\n",
       "      <td>3</td>\n",
       "      <td>63.0</td>\n",
       "      <td>1250000.0</td>\n",
       "      <td>300</td>\n",
       "      <td>1250063.0</td>\n",
       "      <td>237.0</td>\n",
       "      <td>-1249763.0</td>\n",
       "    </tr>\n",
       "    <tr>\n",
       "      <th>4</th>\n",
       "      <td>4</td>\n",
       "      <td>84.0</td>\n",
       "      <td>1250000.0</td>\n",
       "      <td>400</td>\n",
       "      <td>1250084.0</td>\n",
       "      <td>316.0</td>\n",
       "      <td>-1249684.0</td>\n",
       "    </tr>\n",
       "    <tr>\n",
       "      <th>...</th>\n",
       "      <td>...</td>\n",
       "      <td>...</td>\n",
       "      <td>...</td>\n",
       "      <td>...</td>\n",
       "      <td>...</td>\n",
       "      <td>...</td>\n",
       "      <td>...</td>\n",
       "    </tr>\n",
       "    <tr>\n",
       "      <th>29996</th>\n",
       "      <td>29996</td>\n",
       "      <td>629916.0</td>\n",
       "      <td>1250000.0</td>\n",
       "      <td>2999600</td>\n",
       "      <td>1879916.0</td>\n",
       "      <td>2369684.0</td>\n",
       "      <td>1119684.0</td>\n",
       "    </tr>\n",
       "    <tr>\n",
       "      <th>29997</th>\n",
       "      <td>29997</td>\n",
       "      <td>629937.0</td>\n",
       "      <td>1250000.0</td>\n",
       "      <td>2999700</td>\n",
       "      <td>1879937.0</td>\n",
       "      <td>2369763.0</td>\n",
       "      <td>1119763.0</td>\n",
       "    </tr>\n",
       "    <tr>\n",
       "      <th>29998</th>\n",
       "      <td>29998</td>\n",
       "      <td>629958.0</td>\n",
       "      <td>1250000.0</td>\n",
       "      <td>2999800</td>\n",
       "      <td>1879958.0</td>\n",
       "      <td>2369842.0</td>\n",
       "      <td>1119842.0</td>\n",
       "    </tr>\n",
       "    <tr>\n",
       "      <th>29999</th>\n",
       "      <td>29999</td>\n",
       "      <td>629979.0</td>\n",
       "      <td>1250000.0</td>\n",
       "      <td>2999900</td>\n",
       "      <td>1879979.0</td>\n",
       "      <td>2369921.0</td>\n",
       "      <td>1119921.0</td>\n",
       "    </tr>\n",
       "    <tr>\n",
       "      <th>30000</th>\n",
       "      <td>30000</td>\n",
       "      <td>630000.0</td>\n",
       "      <td>1250000.0</td>\n",
       "      <td>3000000</td>\n",
       "      <td>1880000.0</td>\n",
       "      <td>2370000.0</td>\n",
       "      <td>1120000.0</td>\n",
       "    </tr>\n",
       "  </tbody>\n",
       "</table>\n",
       "<p>30001 rows × 7 columns</p>\n",
       "</div>"
      ],
      "text/plain": [
       "       unidades  despesas por unidade  custos fixos  receita  despesas totais  \\\n",
       "0             0                   0.0     1250000.0        0        1250000.0   \n",
       "1             1                  21.0     1250000.0      100        1250021.0   \n",
       "2             2                  42.0     1250000.0      200        1250042.0   \n",
       "3             3                  63.0     1250000.0      300        1250063.0   \n",
       "4             4                  84.0     1250000.0      400        1250084.0   \n",
       "...         ...                   ...           ...      ...              ...   \n",
       "29996     29996              629916.0     1250000.0  2999600        1879916.0   \n",
       "29997     29997              629937.0     1250000.0  2999700        1879937.0   \n",
       "29998     29998              629958.0     1250000.0  2999800        1879958.0   \n",
       "29999     29999              629979.0     1250000.0  2999900        1879979.0   \n",
       "30000     30000              630000.0     1250000.0  3000000        1880000.0   \n",
       "\n",
       "       margem de contribuição      lucro  \n",
       "0                         0.0 -1250000.0  \n",
       "1                        79.0 -1249921.0  \n",
       "2                       158.0 -1249842.0  \n",
       "3                       237.0 -1249763.0  \n",
       "4                       316.0 -1249684.0  \n",
       "...                       ...        ...  \n",
       "29996               2369684.0  1119684.0  \n",
       "29997               2369763.0  1119763.0  \n",
       "29998               2369842.0  1119842.0  \n",
       "29999               2369921.0  1119921.0  \n",
       "30000               2370000.0  1120000.0  \n",
       "\n",
       "[30001 rows x 7 columns]"
      ]
     },
     "execution_count": 9,
     "metadata": {},
     "output_type": "execute_result"
    }
   ],
   "source": [
    "pe.df"
   ]
  },
  {
   "cell_type": "markdown",
   "metadata": {},
   "source": [
    "## Ponto de equilíbrio"
   ]
  },
  {
   "cell_type": "code",
   "execution_count": 10,
   "metadata": {
    "scrolled": false
   },
   "outputs": [
    {
     "data": {
      "image/png": "[encoded data removed]",
      "text/plain": [
       "<Figure size 864x576 with 1 Axes>"
      ]
     },
     "metadata": {
      "needs_background": "light"
     },
     "output_type": "display_data"
    }
   ],
   "source": [
    "pe.plot()"
   ]
  },
  {
   "cell_type": "markdown",
   "metadata": {},
   "source": [
    "De acordo com o gráfico, é possível enxergar que o ponto de equilíbrio se encontra após a marca de 15.000 unidades vendidas."
   ]
  },
  {
   "cell_type": "code",
   "execution_count": 11,
   "metadata": {},
   "outputs": [
    {
     "data": {
      "text/plain": [
       "15823.0"
      ]
     },
     "execution_count": 11,
     "metadata": {},
     "output_type": "execute_result"
    }
   ],
   "source": [
    "pe.equilibrio()"
   ]
  },
  {
   "cell_type": "code",
   "execution_count": 12,
   "metadata": {},
   "outputs": [
    {
     "data": {
      "text/html": [
       "<div>\n",
       "<style scoped>\n",
       "    .dataframe tbody tr th:only-of-type {\n",
       "        vertical-align: middle;\n",
       "    }\n",
       "\n",
       "    .dataframe tbody tr th {\n",
       "        vertical-align: top;\n",
       "    }\n",
       "\n",
       "    .dataframe thead th {\n",
       "        text-align: right;\n",
       "    }\n",
       "</style>\n",
       "<table border=\"1\" class=\"dataframe\">\n",
       "  <thead>\n",
       "    <tr style=\"text-align: right;\">\n",
       "      <th></th>\n",
       "      <th>unidades</th>\n",
       "      <th>despesas por unidade</th>\n",
       "      <th>custos fixos</th>\n",
       "      <th>receita</th>\n",
       "      <th>despesas totais</th>\n",
       "      <th>margem de contribuição</th>\n",
       "      <th>lucro</th>\n",
       "    </tr>\n",
       "  </thead>\n",
       "  <tbody>\n",
       "    <tr>\n",
       "      <th>15823</th>\n",
       "      <td>15823</td>\n",
       "      <td>332283.0</td>\n",
       "      <td>1250000.0</td>\n",
       "      <td>1582300</td>\n",
       "      <td>1582283.0</td>\n",
       "      <td>1250017.0</td>\n",
       "      <td>17.0</td>\n",
       "    </tr>\n",
       "    <tr>\n",
       "      <th>15824</th>\n",
       "      <td>15824</td>\n",
       "      <td>332304.0</td>\n",
       "      <td>1250000.0</td>\n",
       "      <td>1582400</td>\n",
       "      <td>1582304.0</td>\n",
       "      <td>1250096.0</td>\n",
       "      <td>96.0</td>\n",
       "    </tr>\n",
       "    <tr>\n",
       "      <th>15825</th>\n",
       "      <td>15825</td>\n",
       "      <td>332325.0</td>\n",
       "      <td>1250000.0</td>\n",
       "      <td>1582500</td>\n",
       "      <td>1582325.0</td>\n",
       "      <td>1250175.0</td>\n",
       "      <td>175.0</td>\n",
       "    </tr>\n",
       "    <tr>\n",
       "      <th>15826</th>\n",
       "      <td>15826</td>\n",
       "      <td>332346.0</td>\n",
       "      <td>1250000.0</td>\n",
       "      <td>1582600</td>\n",
       "      <td>1582346.0</td>\n",
       "      <td>1250254.0</td>\n",
       "      <td>254.0</td>\n",
       "    </tr>\n",
       "    <tr>\n",
       "      <th>15827</th>\n",
       "      <td>15827</td>\n",
       "      <td>332367.0</td>\n",
       "      <td>1250000.0</td>\n",
       "      <td>1582700</td>\n",
       "      <td>1582367.0</td>\n",
       "      <td>1250333.0</td>\n",
       "      <td>333.0</td>\n",
       "    </tr>\n",
       "    <tr>\n",
       "      <th>...</th>\n",
       "      <td>...</td>\n",
       "      <td>...</td>\n",
       "      <td>...</td>\n",
       "      <td>...</td>\n",
       "      <td>...</td>\n",
       "      <td>...</td>\n",
       "      <td>...</td>\n",
       "    </tr>\n",
       "    <tr>\n",
       "      <th>29996</th>\n",
       "      <td>29996</td>\n",
       "      <td>629916.0</td>\n",
       "      <td>1250000.0</td>\n",
       "      <td>2999600</td>\n",
       "      <td>1879916.0</td>\n",
       "      <td>2369684.0</td>\n",
       "      <td>1119684.0</td>\n",
       "    </tr>\n",
       "    <tr>\n",
       "      <th>29997</th>\n",
       "      <td>29997</td>\n",
       "      <td>629937.0</td>\n",
       "      <td>1250000.0</td>\n",
       "      <td>2999700</td>\n",
       "      <td>1879937.0</td>\n",
       "      <td>2369763.0</td>\n",
       "      <td>1119763.0</td>\n",
       "    </tr>\n",
       "    <tr>\n",
       "      <th>29998</th>\n",
       "      <td>29998</td>\n",
       "      <td>629958.0</td>\n",
       "      <td>1250000.0</td>\n",
       "      <td>2999800</td>\n",
       "      <td>1879958.0</td>\n",
       "      <td>2369842.0</td>\n",
       "      <td>1119842.0</td>\n",
       "    </tr>\n",
       "    <tr>\n",
       "      <th>29999</th>\n",
       "      <td>29999</td>\n",
       "      <td>629979.0</td>\n",
       "      <td>1250000.0</td>\n",
       "      <td>2999900</td>\n",
       "      <td>1879979.0</td>\n",
       "      <td>2369921.0</td>\n",
       "      <td>1119921.0</td>\n",
       "    </tr>\n",
       "    <tr>\n",
       "      <th>30000</th>\n",
       "      <td>30000</td>\n",
       "      <td>630000.0</td>\n",
       "      <td>1250000.0</td>\n",
       "      <td>3000000</td>\n",
       "      <td>1880000.0</td>\n",
       "      <td>2370000.0</td>\n",
       "      <td>1120000.0</td>\n",
       "    </tr>\n",
       "  </tbody>\n",
       "</table>\n",
       "<p>14178 rows × 7 columns</p>\n",
       "</div>"
      ],
      "text/plain": [
       "       unidades  despesas por unidade  custos fixos  receita  despesas totais  \\\n",
       "15823     15823              332283.0     1250000.0  1582300        1582283.0   \n",
       "15824     15824              332304.0     1250000.0  1582400        1582304.0   \n",
       "15825     15825              332325.0     1250000.0  1582500        1582325.0   \n",
       "15826     15826              332346.0     1250000.0  1582600        1582346.0   \n",
       "15827     15827              332367.0     1250000.0  1582700        1582367.0   \n",
       "...         ...                   ...           ...      ...              ...   \n",
       "29996     29996              629916.0     1250000.0  2999600        1879916.0   \n",
       "29997     29997              629937.0     1250000.0  2999700        1879937.0   \n",
       "29998     29998              629958.0     1250000.0  2999800        1879958.0   \n",
       "29999     29999              629979.0     1250000.0  2999900        1879979.0   \n",
       "30000     30000              630000.0     1250000.0  3000000        1880000.0   \n",
       "\n",
       "       margem de contribuição      lucro  \n",
       "15823               1250017.0       17.0  \n",
       "15824               1250096.0       96.0  \n",
       "15825               1250175.0      175.0  \n",
       "15826               1250254.0      254.0  \n",
       "15827               1250333.0      333.0  \n",
       "...                       ...        ...  \n",
       "29996               2369684.0  1119684.0  \n",
       "29997               2369763.0  1119763.0  \n",
       "29998               2369842.0  1119842.0  \n",
       "29999               2369921.0  1119921.0  \n",
       "30000               2370000.0  1120000.0  \n",
       "\n",
       "[14178 rows x 7 columns]"
      ]
     },
     "execution_count": 12,
     "metadata": {},
     "output_type": "execute_result"
    }
   ],
   "source": [
    "df = pe.df\n",
    "df[df.lucro>=0]"
   ]
  },
  {
   "cell_type": "markdown",
   "metadata": {},
   "source": [
    "Consultando a tabela de valores por unidade, é possível verificar que o ponto de equiíbrio se está em 15.823 unidades (por ano)."
   ]
  },
  {
   "cell_type": "markdown",
   "metadata": {},
   "source": [
    "# Análise de sensibilidade"
   ]
  },
  {
   "cell_type": "markdown",
   "metadata": {},
   "source": [
    "## Variando a mão-de-obra\n",
    "\n",
    "Qual o impacto no ponto de equilíbrio se variar a mão-de-obra entre US\\\\$12 e US\\\\$17?"
   ]
  },
  {
   "cell_type": "code",
   "execution_count": 13,
   "metadata": {},
   "outputs": [
    {
     "name": "stdout",
     "output_type": "stream",
     "text": [
      "Mão-de-obra: 12\t\tPonto de Equilíbrio: 15244.0 (unidades)\n",
      "Mão-de-obra: 13\t\tPonto de Equilíbrio: 15433.0 (unidades)\n",
      "Mão-de-obra: 14\t\tPonto de Equilíbrio: 15625.0 (unidades)\n",
      "Mão-de-obra: 15\t\tPonto de Equilíbrio: 15823.0 (unidades)\n",
      "Mão-de-obra: 16\t\tPonto de Equilíbrio: 16026.0 (unidades)\n",
      "Mão-de-obra: 17\t\tPonto de Equilíbrio: 16234.0 (unidades)\n"
     ]
    }
   ],
   "source": [
    "df = pd.DataFrame(columns=['custo', 'unidades', 'despesas totais', 'receita'])\n",
    "for mao_de_obra in range(12, 18):\n",
    "    analise_variavel = custos_variaveis.copy()\n",
    "    analise_variavel.loc[0, 'valor'] = mao_de_obra\n",
    "\n",
    "    pe_temp = PontoDeEquilibrio(custos_fixos, analise_variavel, 100, 30001)\n",
    "\n",
    "    print('Mão-de-obra: {mao_de_obra}\\t\\tPonto de Equilíbrio: {equilibrio} (unidades)'.format(\n",
    "        mao_de_obra=mao_de_obra, equilibrio=pe_temp.equilibrio()))"
   ]
  },
  {
   "cell_type": "markdown",
   "metadata": {},
   "source": [
    "## Variando seguro\n",
    "\n",
    "Qual o impacto no ponto de equilíbrio se variar o custo de seguro de 90.000 a 110.000 anualmente (incrementando US\\\\$ 10.000 por vez)?"
   ]
  },
  {
   "cell_type": "code",
   "execution_count": 14,
   "metadata": {},
   "outputs": [
    {
     "name": "stdout",
     "output_type": "stream",
     "text": [
      "Seguro: 90000\t\tPonto de Equilíbrio: 15700.0 (unidades)\n",
      "Seguro: 100000\t\tPonto de Equilíbrio: 15827.0 (unidades)\n",
      "Seguro: 110000\t\tPonto de Equilíbrio: 15954.0 (unidades)\n"
     ]
    }
   ],
   "source": [
    "for seguro in range(90000, 120000, 10000):\n",
    "    analise_fixa = custos_fixos.copy()\n",
    "    analise_fixa.loc[5, 'valor'] = seguro\n",
    "\n",
    "    pe_temp = PontoDeEquilibrio(analise_fixa, custos_variaveis, 100, 30001)\n",
    "\n",
    "    print('Seguro: {seguro}\\t\\tPonto de Equilíbrio: {equilibrio} (unidades)'.format(\n",
    "        seguro=seguro, equilibrio=pe_temp.equilibrio()))"
   ]
  },
  {
   "cell_type": "markdown",
   "metadata": {},
   "source": [
    "## Variando a mão-de-obra e seguro simultaneamente"
   ]
  },
  {
   "cell_type": "code",
   "execution_count": 18,
   "metadata": {
    "scrolled": true
   },
   "outputs": [
    {
     "name": "stdout",
     "output_type": "stream",
     "text": [
      "Mão-de-obra: 12\t\tSeguro: 90000\t\tPonto de Equilíbrio: 15126.0 (unidades)\n",
      "Mão-de-obra: 12\t\tSeguro: 100000\t\tPonto de Equilíbrio: 15248.0 (unidades)\n",
      "Mão-de-obra: 12\t\tSeguro: 110000\t\tPonto de Equilíbrio: 15370.0 (unidades)\n",
      "Mão-de-obra: 13\t\tSeguro: 90000\t\tPonto de Equilíbrio: 15313.0 (unidades)\n",
      "Mão-de-obra: 13\t\tSeguro: 100000\t\tPonto de Equilíbrio: 15436.0 (unidades)\n",
      "Mão-de-obra: 13\t\tSeguro: 110000\t\tPonto de Equilíbrio: 15560.0 (unidades)\n",
      "Mão-de-obra: 14\t\tSeguro: 90000\t\tPonto de Equilíbrio: 15504.0 (unidades)\n",
      "Mão-de-obra: 14\t\tSeguro: 100000\t\tPonto de Equilíbrio: 15629.0 (unidades)\n",
      "Mão-de-obra: 14\t\tSeguro: 110000\t\tPonto de Equilíbrio: 15754.0 (unidades)\n",
      "Mão-de-obra: 15\t\tSeguro: 90000\t\tPonto de Equilíbrio: 15700.0 (unidades)\n",
      "Mão-de-obra: 15\t\tSeguro: 100000\t\tPonto de Equilíbrio: 15827.0 (unidades)\n",
      "Mão-de-obra: 15\t\tSeguro: 110000\t\tPonto de Equilíbrio: 15954.0 (unidades)\n",
      "Mão-de-obra: 16\t\tSeguro: 90000\t\tPonto de Equilíbrio: 15902.0 (unidades)\n",
      "Mão-de-obra: 16\t\tSeguro: 100000\t\tPonto de Equilíbrio: 16030.0 (unidades)\n",
      "Mão-de-obra: 16\t\tSeguro: 110000\t\tPonto de Equilíbrio: 16158.0 (unidades)\n",
      "Mão-de-obra: 17\t\tSeguro: 90000\t\tPonto de Equilíbrio: 16108.0 (unidades)\n",
      "Mão-de-obra: 17\t\tSeguro: 100000\t\tPonto de Equilíbrio: 16238.0 (unidades)\n",
      "Mão-de-obra: 17\t\tSeguro: 110000\t\tPonto de Equilíbrio: 16368.0 (unidades)\n"
     ]
    }
   ],
   "source": [
    "df = pd.DataFrame(columns=['Mão-de-obra', 'Seguro', 'Ponto de equilíbrio'])\n",
    "for mao_de_obra in range(12, 18):\n",
    "    analise_variavel = custos_variaveis.copy()\n",
    "    analise_variavel.loc[0, 'valor'] = mao_de_obra\n",
    "\n",
    "    for seguro in range(90000, 120000, 10000):\n",
    "        analise_fixa = custos_fixos.copy()\n",
    "        analise_fixa.loc[5, 'valor'] = seguro\n",
    "\n",
    "        pe_temp = PontoDeEquilibrio(analise_fixa, analise_variavel, 100, 30001)\n",
    "\n",
    "        print('Mão-de-obra: {mao_de_obra}\\t\\tSeguro: {seguro}\\t\\tPonto de Equilíbrio: {equilibrio} (unidades)'.format(\n",
    "            mao_de_obra=mao_de_obra, seguro=seguro, equilibrio=pe_temp.equilibrio()))\n",
    "\n",
    "        df_temp = pd.DataFrame({'Mão-de-obra': mao_de_obra,\n",
    "                                'Seguro': seguro,\n",
    "                                'Ponto de equilíbrio': pe_temp.equilibrio()\n",
    "                                }, index=[0])\n",
    "        df = df.append(df_temp, ignore_index=True)"
   ]
  },
  {
   "cell_type": "markdown",
   "metadata": {},
   "source": [
    "Conclusão: quando variamos o custo da mão de obra, o ponto de equilíbrio pode variar entre 15244 e 16234. Já quando a variação ocorre sobre o seguro, o ponto de equilíbrio pode variar entre 15700 e 15954 (pelos valores indicados). Nesse sentido, **a variação do custo da mão de obra tem um impacto maior sobre o ponto de equilíbrio em relação ao custo com seguro**."
   ]
  },
  {
   "cell_type": "code",
   "execution_count": 41,
   "metadata": {},
   "outputs": [
    {
     "data": {
      "text/plain": [
       "<AxesSubplot:xlabel='Mão-de-obra', ylabel='Ponto de equilíbrio'>"
      ]
     },
     "execution_count": 41,
     "metadata": {},
     "output_type": "execute_result"
    },
    {
     "data": {
      "image/png": "[encoded data removed]",
      "text/plain": [
       "<Figure size 864x576 with 1 Axes>"
      ]
     },
     "metadata": {
      "needs_background": "light"
     },
     "output_type": "display_data"
    }
   ],
   "source": [
    "fig, ax = pyplot.subplots(figsize=(12, 8))\n",
    "sns.scatterplot(data=df, x='Mão-de-obra', y='Ponto de equilíbrio', hue='Seguro')"
   ]
  },
  {
   "cell_type": "code",
   "execution_count": 42,
   "metadata": {
    "scrolled": false
   },
   "outputs": [
    {
     "data": {
      "text/plain": [
       "<AxesSubplot:xlabel='Mão-de-obra', ylabel='Seguro'>"
      ]
     },
     "execution_count": 42,
     "metadata": {},
     "output_type": "execute_result"
    },
    {
     "data": {
      "image/png": "[encoded data removed]",
      "text/plain": [
       "<Figure size 864x576 with 1 Axes>"
      ]
     },
     "metadata": {
      "needs_background": "light"
     },
     "output_type": "display_data"
    }
   ],
   "source": [
    "fig, ax = pyplot.subplots(figsize=(12, 8))\n",
    "sns.scatterplot(data=df, x='Mão-de-obra', y='Seguro', size='Ponto de equilíbrio', hue='Ponto de equilíbrio')"
   ]
  },
  {
   "cell_type": "code",
   "execution_count": null,
   "metadata": {},
   "outputs": [],
   "source": []
  },
  {
   "cell_type": "code",
   "execution_count": null,
   "metadata": {},
   "outputs": [],
   "source": []
  },
  {
   "cell_type": "code",
   "execution_count": null,
   "metadata": {},
   "outputs": [],
   "source": []
  },
  {
   "cell_type": "code",
   "execution_count": null,
   "metadata": {},
   "outputs": [],
   "source": []
  },
  {
   "cell_type": "code",
   "execution_count": null,
   "metadata": {},
   "outputs": [],
   "source": []
  }
 ],
 "metadata": {
  "kernelspec": {
   "display_name": "Python 3",
   "language": "python",
   "name": "python3"
  },
  "toc": {
   "base_numbering": 1,
   "nav_menu": {},
   "number_sections": true,
   "sideBar": true,
   "skip_h1_title": false,
   "title_cell": "Table of Contents",
   "title_sidebar": "Contents",
   "toc_cell": false,
   "toc_position": {},
   "toc_section_display": true,
   "toc_window_display": true
  },
  "varInspector": {
   "cols": {
    "lenName": 16,
    "lenType": 16,
    "lenVar": 40
   },
   "kernels_config": {
    "python": {
     "delete_cmd_postfix": "",
     "delete_cmd_prefix": "del ",
     "library": "var_list.py",
     "varRefreshCmd": "print(var_dic_list())"
    },
    "r": {
     "delete_cmd_postfix": ") ",
     "delete_cmd_prefix": "rm(",
     "library": "var_list.r",
     "varRefreshCmd": "cat(var_dic_list()) "
    }
   },
   "types_to_exclude": [
    "module",
    "function",
    "builtin_function_or_method",
    "instance",
    "_Feature"
   ],
   "window_display": false
  }
 },
 "nbformat": 4,
 "nbformat_minor": 4
}
